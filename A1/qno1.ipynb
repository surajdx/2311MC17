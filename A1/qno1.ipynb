{
  "nbformat": 4,
  "nbformat_minor": 0,
  "metadata": {
    "colab": {
      "provenance": []
    },
    "kernelspec": {
      "name": "python3",
      "display_name": "Python 3"
    },
    "language_info": {
      "name": "python"
    }
  },
  "cells": [
    {
      "cell_type": "code",
      "execution_count": null,
      "metadata": {
        "id": "bckQNrexiOZr"
      },
      "outputs": [],
      "source": [
        "import pandas as pd\n",
        "import matplotlib.pyplot as plt\n",
        "\n",
        "data_frame = pd.read_csv('weather.csv')\n",
        "\n",
        "weather_data = {\n",
        "    'Temperature': 'T (degC)',\n",
        "    'Pressure': 'p (mbar)',\n",
        "    'Relative Humidity': 'rh (%)',\n",
        "    'Vapor Pressure': 'VPact (mbar)',\n",
        "    'Wind Speed': 'wv (m/s)',\n",
        "    'Airtight': 'rho (g/m**3)'\n",
        "}\n",
        "\n",
        "figure, axes = plt.subplots(nrows=2, ncols=3, figsize=(26, 20))\n",
        "axes = axes.ravel()\n",
        "\n",
        "for i, (title, column) in enumerate(weather_data.items()):\n",
        "    data_frame['date'] = pd.to_datetime(data_frame['date'])\n",
        "    ax = plt.subplot(2, 3, i + 1)\n",
        "    data_frame.set_index('date')[column].plot(rot=20)\n",
        "    plt.title(title)\n",
        "\n",
        "plt.tight_layout()\n",
        "plt.show()\n",
        "\n",
        "import pandas as pd\n",
        "import matplotlib.pyplot as plt\n",
        "\n",
        "def plot_ecl_data(data_frame, columns_to_plot):\n",
        "    data = data_frame[['date'] + columns_to_plot]\n",
        "    data.loc[:, 'date'] = pd.to_datetime(data['date'])  # This is the line generating the warning\n",
        "    data.set_index('date', inplace=True)\n",
        "\n",
        "    data.plot(figsize=(10, 6))\n",
        "    plt.xlabel('Date')\n",
        "    plt.ylabel('Values')\n",
        "    plt.title('Sample ECL Dataset Columns')\n",
        "    plt.legend(loc='upper right')\n",
        "    plt.show()\n",
        "\n",
        "file_path = 'ECL.csv'\n",
        "ecl_data = pd.read_csv(file_path)\n",
        "columns_to_plot = ['MT_000', 'MT_001', 'MT_002', 'MT_003', 'MT_004', 'MT_005', 'MT_006', 'MT_007', 'MT_008']\n",
        "\n",
        "plot_ecl_data(ecl_data, columns_to_plot)\n",
        "\n"
      ]
    }
  ]
}