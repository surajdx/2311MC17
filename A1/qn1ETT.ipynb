{
  "nbformat": 4,
  "nbformat_minor": 0,
  "metadata": {
    "colab": {
      "provenance": []
    },
    "kernelspec": {
      "name": "python3",
      "display_name": "Python 3"
    },
    "language_info": {
      "name": "python"
    }
  },
  "cells": [
    {
      "cell_type": "code",
      "execution_count": null,
      "metadata": {
        "id": "6FvApvkBkmjx"
      },
      "outputs": [],
      "source": [
        "from google.colab import drive\n",
        "drive.mount('/content/drive')\n",
        "!pwd\n",
        "import pandas as pd\n",
        "\n",
        "df =pd.read_csv(\"drive/My Drive/Assignment/all_six_datasets/all_six_datasets/ETT-small/ETTh1.csv\")\n",
        "df.head()\n",
        "import pandas as pd\n",
        "import matplotlib.pyplot as plt\n",
        "\n",
        "'\n",
        "# Plotting the dependent variables\n",
        "dependent_variables = ['HUFL', 'HULL', 'MUFL', 'MULL', 'LUFL', 'LULL']\n",
        "\n",
        "for variable in dependent_variables:\n",
        "    plt.figure(figsize=(12, 6))\n",
        "    plt.plot(df['date'], df[variable], label=variable)\n",
        "    plt.xlabel('Date')\n",
        "    plt.ylabel('Value')\n",
        "    plt.title(f'{variable} Over Time')\n",
        "    plt.legend()\n",
        "    plt.grid(True)\n",
        "    plt.show()\n",
        "\n",
        "# Plotting the target variable (OT) separately\n",
        "plt.figure(figsize=(12, 6))\n",
        "plt.plot(df['date'], df['OT'], label='OT', color='red')\n",
        "plt.xlabel('Date')\n",
        "plt.ylabel('Value')\n",
        "plt.title('OT (Target Variable) Over Time')\n",
        "plt.legend()\n",
        "plt.grid(True)\n",
        "plt.show()\n"
      ]
    }
  ]
}